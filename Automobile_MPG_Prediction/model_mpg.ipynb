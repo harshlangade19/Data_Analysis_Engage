{
 "cells": [
  {
   "cell_type": "code",
   "execution_count": 165,
   "id": "199ad321",
   "metadata": {},
   "outputs": [],
   "source": [
    "#Importing required libraries\n",
    "\n",
    "import numpy as np\n",
    "import pandas as pd\n",
    "import matplotlib.pyplot as plt\n",
    "import seaborn as sns\n",
    "from sklearn.model_selection import train_test_split\n",
    "from sklearn.preprocessing import StandardScaler\n",
    "from sklearn.metrics import mean_squared_error,mean_absolute_error\n",
    "import pickle"
   ]
  },
  {
   "cell_type": "code",
   "execution_count": 166,
   "id": "738d8381",
   "metadata": {},
   "outputs": [
    {
     "data": {
      "text/html": [
       "<div>\n",
       "<style scoped>\n",
       "    .dataframe tbody tr th:only-of-type {\n",
       "        vertical-align: middle;\n",
       "    }\n",
       "\n",
       "    .dataframe tbody tr th {\n",
       "        vertical-align: top;\n",
       "    }\n",
       "\n",
       "    .dataframe thead th {\n",
       "        text-align: right;\n",
       "    }\n",
       "</style>\n",
       "<table border=\"1\" class=\"dataframe\">\n",
       "  <thead>\n",
       "    <tr style=\"text-align: right;\">\n",
       "      <th></th>\n",
       "      <th>mpg</th>\n",
       "      <th>cylinders</th>\n",
       "      <th>displacement</th>\n",
       "      <th>horsepower</th>\n",
       "      <th>weight</th>\n",
       "      <th>acceleration</th>\n",
       "      <th>model year</th>\n",
       "      <th>origin</th>\n",
       "      <th>car name</th>\n",
       "    </tr>\n",
       "  </thead>\n",
       "  <tbody>\n",
       "    <tr>\n",
       "      <th>0</th>\n",
       "      <td>18.0</td>\n",
       "      <td>8</td>\n",
       "      <td>307.0</td>\n",
       "      <td>130</td>\n",
       "      <td>3504</td>\n",
       "      <td>12.0</td>\n",
       "      <td>70</td>\n",
       "      <td>1</td>\n",
       "      <td>chevrolet chevelle malibu</td>\n",
       "    </tr>\n",
       "    <tr>\n",
       "      <th>1</th>\n",
       "      <td>15.0</td>\n",
       "      <td>8</td>\n",
       "      <td>350.0</td>\n",
       "      <td>165</td>\n",
       "      <td>3693</td>\n",
       "      <td>11.5</td>\n",
       "      <td>70</td>\n",
       "      <td>1</td>\n",
       "      <td>buick skylark 320</td>\n",
       "    </tr>\n",
       "    <tr>\n",
       "      <th>2</th>\n",
       "      <td>18.0</td>\n",
       "      <td>8</td>\n",
       "      <td>318.0</td>\n",
       "      <td>150</td>\n",
       "      <td>3436</td>\n",
       "      <td>11.0</td>\n",
       "      <td>70</td>\n",
       "      <td>1</td>\n",
       "      <td>plymouth satellite</td>\n",
       "    </tr>\n",
       "    <tr>\n",
       "      <th>3</th>\n",
       "      <td>16.0</td>\n",
       "      <td>8</td>\n",
       "      <td>304.0</td>\n",
       "      <td>150</td>\n",
       "      <td>3433</td>\n",
       "      <td>12.0</td>\n",
       "      <td>70</td>\n",
       "      <td>1</td>\n",
       "      <td>amc rebel sst</td>\n",
       "    </tr>\n",
       "    <tr>\n",
       "      <th>4</th>\n",
       "      <td>17.0</td>\n",
       "      <td>8</td>\n",
       "      <td>302.0</td>\n",
       "      <td>140</td>\n",
       "      <td>3449</td>\n",
       "      <td>10.5</td>\n",
       "      <td>70</td>\n",
       "      <td>1</td>\n",
       "      <td>ford torino</td>\n",
       "    </tr>\n",
       "  </tbody>\n",
       "</table>\n",
       "</div>"
      ],
      "text/plain": [
       "    mpg  cylinders  displacement horsepower  weight  acceleration  model year  \\\n",
       "0  18.0          8         307.0        130    3504          12.0          70   \n",
       "1  15.0          8         350.0        165    3693          11.5          70   \n",
       "2  18.0          8         318.0        150    3436          11.0          70   \n",
       "3  16.0          8         304.0        150    3433          12.0          70   \n",
       "4  17.0          8         302.0        140    3449          10.5          70   \n",
       "\n",
       "   origin                   car name  \n",
       "0       1  chevrolet chevelle malibu  \n",
       "1       1          buick skylark 320  \n",
       "2       1         plymouth satellite  \n",
       "3       1              amc rebel sst  \n",
       "4       1                ford torino  "
      ]
     },
     "execution_count": 166,
     "metadata": {},
     "output_type": "execute_result"
    }
   ],
   "source": [
    "#Importing(reading) the dataset\n",
    "\n",
    "data = pd.read_csv('https://raw.githubusercontent.com/harshlangade19/Data_Analysis_MS_Engage_2022/main/auto-mpg.csv')\n",
    "data.head()"
   ]
  },
  {
   "cell_type": "code",
   "execution_count": 167,
   "id": "47005f96",
   "metadata": {},
   "outputs": [
    {
     "name": "stdout",
     "output_type": "stream",
     "text": [
      "<class 'pandas.core.frame.DataFrame'>\n",
      "RangeIndex: 398 entries, 0 to 397\n",
      "Data columns (total 9 columns):\n",
      " #   Column        Non-Null Count  Dtype  \n",
      "---  ------        --------------  -----  \n",
      " 0   mpg           398 non-null    float64\n",
      " 1   cylinders     398 non-null    int64  \n",
      " 2   displacement  398 non-null    float64\n",
      " 3   horsepower    398 non-null    object \n",
      " 4   weight        398 non-null    int64  \n",
      " 5   acceleration  398 non-null    float64\n",
      " 6   model year    398 non-null    int64  \n",
      " 7   origin        398 non-null    int64  \n",
      " 8   car name      398 non-null    object \n",
      "dtypes: float64(3), int64(4), object(2)\n",
      "memory usage: 28.1+ KB\n"
     ]
    }
   ],
   "source": [
    "data.info()"
   ]
  },
  {
   "cell_type": "code",
   "execution_count": 168,
   "id": "1ddc817f",
   "metadata": {},
   "outputs": [
    {
     "data": {
      "text/html": [
       "<div>\n",
       "<style scoped>\n",
       "    .dataframe tbody tr th:only-of-type {\n",
       "        vertical-align: middle;\n",
       "    }\n",
       "\n",
       "    .dataframe tbody tr th {\n",
       "        vertical-align: top;\n",
       "    }\n",
       "\n",
       "    .dataframe thead th {\n",
       "        text-align: right;\n",
       "    }\n",
       "</style>\n",
       "<table border=\"1\" class=\"dataframe\">\n",
       "  <thead>\n",
       "    <tr style=\"text-align: right;\">\n",
       "      <th></th>\n",
       "      <th>mpg</th>\n",
       "      <th>cylinders</th>\n",
       "      <th>displacement</th>\n",
       "      <th>weight</th>\n",
       "      <th>acceleration</th>\n",
       "      <th>model year</th>\n",
       "      <th>origin</th>\n",
       "    </tr>\n",
       "  </thead>\n",
       "  <tbody>\n",
       "    <tr>\n",
       "      <th>count</th>\n",
       "      <td>398.000000</td>\n",
       "      <td>398.000000</td>\n",
       "      <td>398.000000</td>\n",
       "      <td>398.000000</td>\n",
       "      <td>398.000000</td>\n",
       "      <td>398.000000</td>\n",
       "      <td>398.000000</td>\n",
       "    </tr>\n",
       "    <tr>\n",
       "      <th>mean</th>\n",
       "      <td>23.514573</td>\n",
       "      <td>5.454774</td>\n",
       "      <td>193.425879</td>\n",
       "      <td>2970.424623</td>\n",
       "      <td>15.568090</td>\n",
       "      <td>76.010050</td>\n",
       "      <td>1.572864</td>\n",
       "    </tr>\n",
       "    <tr>\n",
       "      <th>std</th>\n",
       "      <td>7.815984</td>\n",
       "      <td>1.701004</td>\n",
       "      <td>104.269838</td>\n",
       "      <td>846.841774</td>\n",
       "      <td>2.757689</td>\n",
       "      <td>3.697627</td>\n",
       "      <td>0.802055</td>\n",
       "    </tr>\n",
       "    <tr>\n",
       "      <th>min</th>\n",
       "      <td>9.000000</td>\n",
       "      <td>3.000000</td>\n",
       "      <td>68.000000</td>\n",
       "      <td>1613.000000</td>\n",
       "      <td>8.000000</td>\n",
       "      <td>70.000000</td>\n",
       "      <td>1.000000</td>\n",
       "    </tr>\n",
       "    <tr>\n",
       "      <th>25%</th>\n",
       "      <td>17.500000</td>\n",
       "      <td>4.000000</td>\n",
       "      <td>104.250000</td>\n",
       "      <td>2223.750000</td>\n",
       "      <td>13.825000</td>\n",
       "      <td>73.000000</td>\n",
       "      <td>1.000000</td>\n",
       "    </tr>\n",
       "    <tr>\n",
       "      <th>50%</th>\n",
       "      <td>23.000000</td>\n",
       "      <td>4.000000</td>\n",
       "      <td>148.500000</td>\n",
       "      <td>2803.500000</td>\n",
       "      <td>15.500000</td>\n",
       "      <td>76.000000</td>\n",
       "      <td>1.000000</td>\n",
       "    </tr>\n",
       "    <tr>\n",
       "      <th>75%</th>\n",
       "      <td>29.000000</td>\n",
       "      <td>8.000000</td>\n",
       "      <td>262.000000</td>\n",
       "      <td>3608.000000</td>\n",
       "      <td>17.175000</td>\n",
       "      <td>79.000000</td>\n",
       "      <td>2.000000</td>\n",
       "    </tr>\n",
       "    <tr>\n",
       "      <th>max</th>\n",
       "      <td>46.600000</td>\n",
       "      <td>8.000000</td>\n",
       "      <td>455.000000</td>\n",
       "      <td>5140.000000</td>\n",
       "      <td>24.800000</td>\n",
       "      <td>82.000000</td>\n",
       "      <td>3.000000</td>\n",
       "    </tr>\n",
       "  </tbody>\n",
       "</table>\n",
       "</div>"
      ],
      "text/plain": [
       "              mpg   cylinders  displacement       weight  acceleration  \\\n",
       "count  398.000000  398.000000    398.000000   398.000000    398.000000   \n",
       "mean    23.514573    5.454774    193.425879  2970.424623     15.568090   \n",
       "std      7.815984    1.701004    104.269838   846.841774      2.757689   \n",
       "min      9.000000    3.000000     68.000000  1613.000000      8.000000   \n",
       "25%     17.500000    4.000000    104.250000  2223.750000     13.825000   \n",
       "50%     23.000000    4.000000    148.500000  2803.500000     15.500000   \n",
       "75%     29.000000    8.000000    262.000000  3608.000000     17.175000   \n",
       "max     46.600000    8.000000    455.000000  5140.000000     24.800000   \n",
       "\n",
       "       model year      origin  \n",
       "count  398.000000  398.000000  \n",
       "mean    76.010050    1.572864  \n",
       "std      3.697627    0.802055  \n",
       "min     70.000000    1.000000  \n",
       "25%     73.000000    1.000000  \n",
       "50%     76.000000    1.000000  \n",
       "75%     79.000000    2.000000  \n",
       "max     82.000000    3.000000  "
      ]
     },
     "execution_count": 168,
     "metadata": {},
     "output_type": "execute_result"
    }
   ],
   "source": [
    "data.describe()"
   ]
  },
  {
   "cell_type": "code",
   "execution_count": 169,
   "id": "5979039e",
   "metadata": {},
   "outputs": [
    {
     "data": {
      "text/plain": [
       "mpg             0\n",
       "cylinders       0\n",
       "displacement    0\n",
       "horsepower      0\n",
       "weight          0\n",
       "acceleration    0\n",
       "model year      0\n",
       "origin          0\n",
       "car name        0\n",
       "dtype: int64"
      ]
     },
     "execution_count": 169,
     "metadata": {},
     "output_type": "execute_result"
    }
   ],
   "source": [
    "data.isnull().sum()"
   ]
  },
  {
   "cell_type": "code",
   "execution_count": 170,
   "id": "a45bb716",
   "metadata": {},
   "outputs": [],
   "source": [
    "#Dropping unneccessary feature columns from the dataset\n",
    "\n",
    "data = data.drop(['car name','origin','model year'],axis=1)\n",
    "#converting object datatype to numeric\n",
    "data['horsepower'] = pd.to_numeric(data['horsepower'],errors='coerce')    "
   ]
  },
  {
   "cell_type": "code",
   "execution_count": 171,
   "id": "7c6edf2e",
   "metadata": {},
   "outputs": [
    {
     "data": {
      "text/plain": [
       "<AxesSubplot:>"
      ]
     },
     "execution_count": 171,
     "metadata": {},
     "output_type": "execute_result"
    },
    {
     "data": {
      "image/png": "[encoded data removed]",
      "text/plain": [
       "<Figure size 432x288 with 2 Axes>"
      ]
     },
     "metadata": {
      "needs_background": "light"
     },
     "output_type": "display_data"
    }
   ],
   "source": [
    "#Checking correlationn of 'horsepower'with other features\n",
    "\n",
    "value = data[data['horsepower'].isnull()].index.tolist()\n",
    "data_corr = data.corr()\n",
    "sns.heatmap(data_corr)"
   ]
  },
  {
   "cell_type": "code",
   "execution_count": 172,
   "id": "98d0e986",
   "metadata": {},
   "outputs": [],
   "source": [
    "#Determining a factor to fill null values \n",
    "\n",
    "hp_avg = data['horsepower'].mean()\n",
    "disp_avg = data['displacement'].mean()\n",
    "factor = hp_avg / disp_avg"
   ]
  },
  {
   "cell_type": "code",
   "execution_count": 173,
   "id": "d64e3034",
   "metadata": {},
   "outputs": [],
   "source": [
    "#Filling null values in 'horsepower' feature column\n",
    "\n",
    "for i in value:\n",
    "    data['horsepower'].fillna(value=(data.iloc[i][2])*factor,inplace=True)"
   ]
  },
  {
   "cell_type": "code",
   "execution_count": 174,
   "id": "d2a49010",
   "metadata": {},
   "outputs": [],
   "source": [
    "#Seperating input features(for model) and label column\n",
    "\n",
    "X = data.drop('mpg',axis=1)\n",
    "y = data['mpg']\n",
    "X = np.asarray(X).astype(np.float32)\n",
    "y = np.asarray(y).astype(np.float32)"
   ]
  },
  {
   "cell_type": "code",
   "execution_count": 175,
   "id": "2bf44d07",
   "metadata": {},
   "outputs": [],
   "source": [
    "#Seperating the data into training data and test data\n",
    "\n",
    "X_train, X_cv, y_train, y_cv = train_test_split( X, y, test_size=0.3, random_state=42)"
   ]
  },
  {
   "cell_type": "code",
   "execution_count": 176,
   "id": "090a7ce7",
   "metadata": {},
   "outputs": [
    {
     "data": {
      "text/plain": [
       "array([[-8.1670606e-01, -9.0943313e-01, -1.2484125e+00, -1.2723670e+00,\n",
       "         7.3199713e-01],\n",
       "       [-8.1670606e-01, -6.4596099e-01, -6.3597691e-01, -3.2879925e-01,\n",
       "         1.1710129e+00],\n",
       "       [ 3.2954806e-01,  3.7158656e-01, -1.4131750e-01, -3.1856778e-01,\n",
       "        -8.7772596e-01],\n",
       "       [ 1.4758023e+00,  1.1529177e+00,  1.0364431e+00,  1.1661304e+00,\n",
       "        -8.0455679e-01],\n",
       "       [ 1.4758023e+00,  1.1529177e+00,  1.0364431e+00,  1.5037684e+00,\n",
       "        -3.2895669e-01],\n",
       "       [-8.1670606e-01, -8.5492164e-01, -4.2398003e-01, -9.2563421e-01,\n",
       "         4.0273568e-01],\n",
       "       [-8.1670606e-01, -4.6425605e-01, -3.2975918e-01, -5.5960387e-02,\n",
       "         3.6615092e-01],\n",
       "       [ 1.4758023e+00,  2.2613177e+00,  2.5675318e+00,  2.0699091e+00,\n",
       "        -1.6094184e+00],\n",
       "       [ 1.4758023e+00,  6.2597346e-01,  9.4234616e-02,  1.3025498e+00,\n",
       "         1.3173512e+00],\n",
       "       [ 3.2954806e-01,  8.0858685e-02, -1.2500652e+00, -4.4592101e-02,\n",
       "         5.8565879e-01],\n",
       "       [ 1.4758023e+00,  1.8070554e+00,  1.9786516e+00,  1.0638158e+00,\n",
       "        -2.5240338e+00],\n",
       "       [-8.1670606e-01, -9.0943313e-01, -9.1863948e-01, -1.0791061e+00,\n",
       "        -1.4603360e-01],\n",
       "       [-8.1670606e-01, -9.0943313e-01, -8.4797388e-01, -1.0904744e+00,\n",
       "         1.8661205e+00],\n",
       "       [ 1.4758023e+00,  1.0257243e+00,  1.0364431e+00,  1.1115626e+00,\n",
       "        -1.0606490e+00],\n",
       "       [-8.1670606e-01, -4.6425605e-01, -7.3019779e-01, -4.2315602e-01,\n",
       "         5.8565879e-01],\n",
       "       [ 1.4758023e+00,  1.7434586e+00,  1.7430995e+00,  2.3200114e+00,\n",
       "        -1.4264952e+00],\n",
       "       [-8.1670606e-01, -7.1864295e-01, -4.9464566e-01, -3.8564068e-01,\n",
       "         2.9298210e-01],\n",
       "       [ 3.2954806e-01, -2.5529543e-01,  4.4756281e-01,  2.5666746e-01,\n",
       "        -6.5821815e-01],\n",
       "       [ 1.4758023e+00,  1.8979079e+00,  1.7430995e+00,  1.4844424e+00,\n",
       "        -1.5728335e+00],\n",
       "       [-8.1670606e-01, -9.0943313e-01, -8.9508432e-01, -1.0734220e+00,\n",
       "         8.0516666e-01],\n",
       "       [-8.1670606e-01, -6.3687575e-01, -7.0664257e-01, -4.5839772e-01,\n",
       "         9.5150501e-01],\n",
       "       [ 3.2954806e-01,  6.2688194e-02, -2.5909355e-01, -9.2338897e-02,\n",
       "         3.6889490e-02],\n",
       "       [ 3.2954806e-01,  3.7158656e-01,  1.4134504e-01, -9.0065241e-02,\n",
       "        -2.5578752e-01],\n",
       "       [-8.1670606e-01, -8.4583640e-01, -5.4175609e-01, -9.5405495e-01,\n",
       "         1.8322784e-01],\n",
       "       [ 1.4758023e+00,  1.0529801e+00,  5.6533885e-01,  6.7047310e-01,\n",
       "        -1.2435721e+00],\n",
       "       [-8.1670606e-01, -8.5492164e-01, -1.2719676e+00, -8.9152938e-01,\n",
       "         3.3660898e+00],\n",
       "       [-8.1670606e-01, -8.4583640e-01, -3.7686962e-01, -7.3805749e-01,\n",
       "         3.6889490e-02],\n",
       "       [-8.1670606e-01, -3.6431834e-01, -4.2398003e-01, -1.9806397e-01,\n",
       "         2.1981260e-01],\n",
       "       [ 3.2954806e-01,  6.0780299e-01,  3.2978675e-01,  5.6361121e-01,\n",
       "        -1.0944885e-01],\n",
       "       [ 1.4758023e+00,  1.8979079e+00,  1.4368817e+00,  2.2643068e+00,\n",
       "        -1.0606490e+00],\n",
       "       [-8.1670606e-01, -4.6425605e-01, -4.7109044e-01, -1.4122252e-01,\n",
       "         7.3474251e-02],\n",
       "       [-8.1670606e-01, -7.8223968e-01, -7.5375301e-01, -1.0620537e+00,\n",
       "        -3.6279678e-02],\n",
       "       [ 1.4758023e+00,  1.4436455e+00,  4.4756281e-01,  1.1206572e+00,\n",
       "         7.3199713e-01],\n",
       "       [-8.1670606e-01, -7.0955771e-01, -2.5909355e-01, -7.2327876e-01,\n",
       "         3.6889490e-02],\n",
       "       [-8.1670606e-01, -9.5485932e-01, -9.6574992e-01, -1.0177174e+00,\n",
       "         3.6615092e-01],\n",
       "       [ 1.4758023e+00,  1.8979079e+00,  2.9208601e+00,  1.5503784e+00,\n",
       "        -2.1581876e+00],\n",
       "       [ 3.2954806e-01, -3.2797736e-01,  2.3568984e-02, -5.0273401e-01,\n",
       "        -5.1187980e-01],\n",
       "       [ 1.4758023e+00,  1.0348095e+00,  9.1866702e-01,  5.8066362e-01,\n",
       "        -8.0455679e-01],\n",
       "       [ 1.4758023e+00,  1.1529177e+00,  1.0364431e+00,  1.8004807e+00,\n",
       "        -3.2895669e-01],\n",
       "       [-8.1670606e-01, -8.4583640e-01, -5.4175609e-01, -7.9035163e-01,\n",
       "         4.0273568e-01],\n",
       "       [ 3.2954806e-01, -1.6444296e-01,  2.1201068e-01, -2.4353711e-01,\n",
       "        -9.1431069e-01],\n",
       "       [-8.1670606e-01, -8.5492164e-01, -1.0835260e+00, -1.2280307e+00,\n",
       "         1.3173512e+00],\n",
       "       [-8.1670606e-01, -6.3687575e-01,  1.4134504e-01,  2.1343956e-02,\n",
       "        -3.2895669e-01],\n",
       "       [ 1.4758023e+00,  1.5344980e+00,  2.5675318e+00,  1.9334897e+00,\n",
       "        -5.1187980e-01],\n",
       "       [-8.1670606e-01, -6.4596099e-01, -2.1198313e-01, -4.6408185e-01,\n",
       "        -3.2895669e-01],\n",
       "       [-8.1670606e-01, -6.4596099e-01, -4.2398003e-01, -8.5742450e-01,\n",
       "        -3.2895669e-01],\n",
       "       [-8.1670606e-01, -6.8230194e-01, -7.3019779e-01, -7.5965726e-01,\n",
       "        -5.1187980e-01],\n",
       "       [-8.1670606e-01, -6.3687575e-01,  2.1201068e-01, -2.7650514e-01,\n",
       "        -6.9480288e-01],\n",
       "       [-8.1670606e-01, -7.9132491e-01, -2.5909355e-01, -6.1300635e-01,\n",
       "         7.6858193e-01],\n",
       "       [-8.1670606e-01, -9.1851836e-01, -8.2441866e-01, -7.8580433e-01,\n",
       "         4.0273568e-01],\n",
       "       [-8.1670606e-01, -4.6425605e-01, -8.0086344e-01, -5.7549107e-01,\n",
       "         1.3173512e+00],\n",
       "       [-8.1670606e-01, -9.5485932e-01, -9.6574992e-01, -1.0677378e+00,\n",
       "        -7.2864436e-02],\n",
       "       [-8.1670606e-01, -7.6406914e-01, -8.0086344e-01, -7.0963681e-01,\n",
       "         5.8565879e-01],\n",
       "       [ 1.4758023e+00,  1.8979079e+00,  1.9786516e+00,  1.7140818e+00,\n",
       "        -1.0606490e+00],\n",
       "       [ 3.2954806e-01, -1.6444296e-01,  9.4234616e-02, -2.1511640e-01,\n",
       "        -1.0240643e+00],\n",
       "       [ 1.4758023e+00,  1.8979079e+00,  1.6253234e+00,  1.7618285e+00,\n",
       "        -1.4264952e+00],\n",
       "       [ 1.4758023e+00,  1.5344980e+00,  1.0364431e+00,  1.1661304e+00,\n",
       "        -8.7772596e-01],\n",
       "       [-8.1670606e-01, -5.1876754e-01, -3.7686962e-01, -2.3103200e-01,\n",
       "         3.6889490e-02],\n",
       "       [-8.1670606e-01, -4.6425605e-01, -3.7686962e-01, -7.3919433e-01,\n",
       "         3.6889490e-02],\n",
       "       [ 3.2954806e-01,  3.0798984e-01, -2.5909355e-01,  3.9763421e-01,\n",
       "         2.1981260e-01],\n",
       "       [ 1.4758023e+00,  1.4436455e+00,  1.7430995e+00,  8.5236567e-01,\n",
       "        -1.6094184e+00],\n",
       "       [-8.1670606e-01, -9.0943313e-01, -1.2484125e+00, -1.2723670e+00,\n",
       "         7.6858193e-01],\n",
       "       [-8.1670606e-01, -4.6425605e-01, -5.4175609e-01, -3.1288365e-01,\n",
       "         5.8565879e-01],\n",
       "       [-8.1670606e-01, -6.4596099e-01, -4.4753522e-01,  7.3638074e-02,\n",
       "         1.5002743e+00],\n",
       "       [ 3.2954806e-01,  6.2688194e-02, -2.5909355e-01, -1.1624073e-02,\n",
       "         2.1981260e-01],\n",
       "       [-8.1670606e-01, -7.0955771e-01, -2.5909355e-01, -7.8012019e-01,\n",
       "        -5.1187980e-01],\n",
       "       [-8.1670606e-01, -3.6431834e-01, -4.9464566e-01, -6.7328669e-02,\n",
       "         8.0516666e-01],\n",
       "       [-8.1670606e-01, -8.4583640e-01, -9.6574992e-01, -9.8815978e-01,\n",
       "         2.9298210e-01],\n",
       "       [-8.1670606e-01, -8.4583640e-01, -1.0835260e+00, -8.5287720e-01,\n",
       "         2.4514744e+00],\n",
       "       [ 1.4758023e+00,  1.0529801e+00,  5.6533885e-01,  1.3457493e+00,\n",
       "        -5.1187980e-01],\n",
       "       [-8.1670606e-01, -7.8223968e-01, -1.0128603e+00, -7.9489893e-01,\n",
       "        -1.8261836e-01],\n",
       "       [ 1.4758023e+00,  1.0257243e+00,  1.0364431e+00,  1.5265050e+00,\n",
       "         3.6889490e-02],\n",
       "       [ 1.4758023e+00,  2.1613801e+00,  2.1670933e+00,  1.6219987e+00,\n",
       "        -1.9752645e+00],\n",
       "       [ 3.2954806e-01,  6.0780299e-01,  9.4234616e-02,  5.4311987e-02,\n",
       "        -6.9480288e-01],\n",
       "       [ 3.2954806e-01, -9.1760986e-02,  9.4234616e-02,  3.4985900e-02,\n",
       "         3.6615092e-01],\n",
       "       [ 1.4758023e+00,  6.2597346e-01,  9.4234616e-02,  5.1245391e-01,\n",
       "         3.6889490e-02],\n",
       "       [ 3.2954806e-01,  5.3512102e-01,  9.4234616e-02,  6.8866235e-01,\n",
       "         3.6615092e-01],\n",
       "       [-8.1670606e-01, -7.1864295e-01, -4.2398003e-01, -3.5153583e-01,\n",
       "         1.5368590e+00],\n",
       "       [-8.1670606e-01, -9.1851836e-01, -8.4797388e-01, -1.1109372e+00,\n",
       "        -5.1187980e-01],\n",
       "       [ 1.4758023e+00,  1.0348095e+00,  5.6533885e-01,  1.0524476e+00,\n",
       "         3.0473052e-04],\n",
       "       [ 1.4758023e+00,  1.0257243e+00,  1.0364431e+00,  5.8975828e-01,\n",
       "        -1.2435721e+00],\n",
       "       [-8.1670606e-01, -8.5492164e-01, -4.2398003e-01, -8.9152938e-01,\n",
       "        -3.2895669e-01],\n",
       "       [-8.1670606e-01, -9.0943313e-01, -8.9508432e-01, -1.0108963e+00,\n",
       "         1.0246745e+00],\n",
       "       [-8.1670606e-01, -9.0943313e-01, -1.0835260e+00, -1.2666827e+00,\n",
       "         3.6615092e-01],\n",
       "       [-8.1670606e-01, -6.9138718e-01, -2.5909355e-01, -2.5035807e-01,\n",
       "        -1.4603360e-01],\n",
       "       [ 1.4758023e+00,  1.8979079e+00,  1.6253234e+00,  1.6720191e+00,\n",
       "        -1.2435721e+00],\n",
       "       [-8.1670606e-01, -1.0275413e+00, -1.2719676e+00, -1.0563695e+00,\n",
       "         1.4636896e+00],\n",
       "       [-8.1670606e-01, -8.4583640e-01, -9.6574992e-01, -6.0732222e-01,\n",
       "         1.9392900e+00],\n",
       "       [-8.1670606e-01, -8.5492164e-01, -4.2398003e-01, -7.2214192e-01,\n",
       "         1.3173512e+00],\n",
       "       [ 1.4758023e+00,  2.1613801e+00,  2.1670933e+00,  2.3166008e+00,\n",
       "        -1.4264952e+00],\n",
       "       [ 1.4758023e+00,  1.8979079e+00,  1.9786516e+00,  1.6038094e+00,\n",
       "        -1.1704030e+00],\n",
       "       [-1.3898331e+00, -1.1002233e+00, -1.4131750e-01, -5.6184912e-01,\n",
       "        -1.0606490e+00],\n",
       "       [-8.1670606e-01, -6.8230194e-01, -7.3019779e-01, -8.5969818e-01,\n",
       "         3.6889490e-02],\n",
       "       [-8.1670606e-01, -1.0184561e+00, -1.1306365e+00, -1.2382621e+00,\n",
       "         1.1710129e+00],\n",
       "       [ 3.2954806e-01, -3.1889212e-01,  4.7124192e-02,  1.7933471e-02,\n",
       "         3.6889490e-02],\n",
       "       [-8.1670606e-01, -7.8223968e-01, -1.0128603e+00, -8.9721352e-01,\n",
       "        -2.5578752e-01],\n",
       "       [-8.1670606e-01, -5.0968230e-01, -5.1820087e-01, -4.4248211e-01,\n",
       "         2.1981260e-01],\n",
       "       [ 3.2954806e-01,  3.6250132e-01,  2.1201068e-01,  3.7603447e-01,\n",
       "         3.0473052e-04],\n",
       "       [-8.1670606e-01, -3.1889212e-01, -2.3541437e-02, -1.2985425e-01,\n",
       "        -3.6554146e-01],\n",
       "       [ 1.4758023e+00,  1.1529177e+00,  1.0364431e+00,  1.3218759e+00,\n",
       "        -5.1187980e-01],\n",
       "       [-8.1670606e-01, -8.4583640e-01, -9.4219470e-01, -1.2666827e+00,\n",
       "        -3.6554146e-01],\n",
       "       [-8.1670606e-01, -7.5498390e-01, -2.8264877e-01, -6.0845906e-01,\n",
       "         4.0273568e-01],\n",
       "       [ 3.2954806e-01,  7.1773447e-02, -2.1198313e-01, -1.5941179e-01,\n",
       "         3.6889490e-02],\n",
       "       [ 1.4758023e+00,  1.0257243e+00,  1.0364431e+00,  8.6146033e-01,\n",
       "        -1.4264952e+00],\n",
       "       [ 3.2954806e-01,  5.3512102e-01, -2.3541437e-02,  6.1931580e-01,\n",
       "         2.1981260e-01],\n",
       "       [ 1.4758023e+00,  2.2613177e+00,  2.5675318e+00,  1.5890306e+00,\n",
       "        -2.5240338e+00],\n",
       "       [-8.1670606e-01, -8.5492164e-01, -1.4132990e+00, -1.2268938e+00,\n",
       "         1.8661205e+00],\n",
       "       [ 1.4758023e+00,  1.4436455e+00,  1.0364431e+00,  2.0289834e+00,\n",
       "        -3.2895669e-01],\n",
       "       [-8.1670606e-01, -7.8223968e-01, -7.5375301e-01, -8.2331967e-01,\n",
       "        -4.3871063e-01],\n",
       "       [-8.1670606e-01, -9.6394455e-01, -9.6574992e-01, -1.0677378e+00,\n",
       "         1.4636896e+00],\n",
       "       [-8.1670606e-01, -1.0911380e+00, -9.6574992e-01, -1.2257570e+00,\n",
       "         2.0490437e+00],\n",
       "       [-8.1670606e-01, -7.6406914e-01, -4.7109044e-01, -5.1182866e-01,\n",
       "         3.6889490e-02],\n",
       "       [ 1.4758023e+00,  6.8957019e-01,  4.4756281e-01,  7.8529280e-01,\n",
       "        -1.4603360e-01],\n",
       "       [-8.1670606e-01, -9.0943313e-01, -9.1863948e-01, -1.0791061e+00,\n",
       "         1.1005866e-01],\n",
       "       [-8.1670606e-01, -6.3687575e-01, -6.1242169e-01, -2.7764198e-01,\n",
       "        -1.4603360e-01],\n",
       "       [-8.1670606e-01, -4.6425605e-01, -3.7686962e-01, -5.7549107e-01,\n",
       "         1.5002743e+00],\n",
       "       [-8.1670606e-01, -8.6400688e-01, -8.7152910e-01, -8.2445645e-01,\n",
       "         9.5150501e-01],\n",
       "       [ 3.2954806e-01,  3.0798984e-01,  9.4234616e-02,  5.0676978e-01,\n",
       "         4.3932042e-01],\n",
       "       [-8.1670606e-01, -9.0943313e-01, -8.7152910e-01, -8.9152938e-01,\n",
       "        -2.5578752e-01],\n",
       "       [ 3.2954806e-01, -2.5529543e-01,  6.3600451e-01,  5.6361121e-01,\n",
       "         1.4664342e-01]], dtype=float32)"
      ]
     },
     "execution_count": 176,
     "metadata": {},
     "output_type": "execute_result"
    }
   ],
   "source": [
    "#Implementing feature scaling on the data\n",
    "\n",
    "scaler = StandardScaler()\n",
    "scaler.fit_transform(X_train)\n",
    "scaler.fit_transform(X_cv)"
   ]
  },
  {
   "cell_type": "code",
   "execution_count": 177,
   "id": "f10bf4ab",
   "metadata": {},
   "outputs": [],
   "source": [
    "#Building ml models for prediciton and choosing the best one \n",
    "\n",
    "#from sklearn.linear_model import LinearRegression\n",
    "#regressor = LinearRegression()\n",
    "from sklearn.ensemble import RandomForestRegressor\n",
    "regressor = RandomForestRegressor(n_estimators=50,random_state=10)\n",
    "#from sklearn.svm import SVR\n",
    "#regressor = SVR(kernel='rbf')"
   ]
  },
  {
   "cell_type": "code",
   "execution_count": 178,
   "id": "cd24ba39",
   "metadata": {},
   "outputs": [
    {
     "data": {
      "text/plain": [
       "RandomForestRegressor(n_estimators=50, random_state=10)"
      ]
     },
     "execution_count": 178,
     "metadata": {},
     "output_type": "execute_result"
    }
   ],
   "source": [
    "#Fitting the model on training data\n",
    "\n",
    "regressor.fit(X_train,y_train)"
   ]
  },
  {
   "cell_type": "code",
   "execution_count": 179,
   "id": "79309706",
   "metadata": {},
   "outputs": [
    {
     "data": {
      "text/plain": [
       "array([37.9       , 26.95800011, 20.35799999, 14.24      , 15.5239999 ,\n",
       "       27.45799995, 24.23799976, 11.52      , 18.36000004, 22.85400002,\n",
       "       13.48      , 33.14999947, 33.21199989, 14.7       , 25.71      ,\n",
       "       13.43      , 25.22200005, 19.82200005, 14.32      , 35.63799957,\n",
       "       33.43599991, 20.19000023, 19.23799999, 28.76599998, 17.00800022,\n",
       "       30.53800003, 27.64799999, 26.78599998, 18.66400009, 12.58      ,\n",
       "       24.18799995, 30.98599991, 16.31600006, 26.07600006, 35.64599983,\n",
       "       13.68      , 25.02200001, 17.43600018, 13.44799995, 27.28399998,\n",
       "       24.64199986, 33.12999954, 21.63200016, 11.16      , 24.68600002,\n",
       "       28.36000004, 32.19600014, 24.45600006, 26.64200001, 31.67999977,\n",
       "       23.68200012, 32.38799957, 31.73200039, 12.26      , 24.29399982,\n",
       "       14.48      , 13.79      , 24.74000011, 26.59600002, 20.11200008,\n",
       "       14.83600002, 37.9       , 25.39400009, 21.87799992, 19.9420002 ,\n",
       "       25.79200012, 24.45599983, 31.65999977, 33.25999977, 16.12800003,\n",
       "       34.58799992, 14.47199989, 13.65      , 22.15400002, 21.28400005,\n",
       "       20.33799999, 17.66800003, 26.53399998, 34.03599949, 16.20600029,\n",
       "       16.12200005, 27.42      , 34.99199978, 37.85799934, 25.99000011,\n",
       "       13.98      , 30.16      , 31.93799995, 27.84599998, 11.44      ,\n",
       "       13.18      , 23.33800003, 31.30800014, 35.29599983, 21.72600014,\n",
       "       35.86799984, 26.41600037, 21.22799992, 22.91800018, 14.43799999,\n",
       "       34.69399956, 26.60400002, 20.26600006, 14.82000004, 18.21600006,\n",
       "       13.49      , 32.77399967, 13.46599995, 33.21200016, 32.70199974,\n",
       "       30.77799988, 26.31600002, 18.04800018, 33.7859993 , 28.52400005,\n",
       "       25.08399994, 33.0279995 , 20.17399994, 34.57399956, 20.39600002])"
      ]
     },
     "execution_count": 179,
     "metadata": {},
     "output_type": "execute_result"
    }
   ],
   "source": [
    "#Predicting the required output using test data\n",
    "\n",
    "predictions = regressor.predict(X_cv)\n",
    "predictions"
   ]
  },
  {
   "cell_type": "code",
   "execution_count": 180,
   "id": "2bac960a",
   "metadata": {},
   "outputs": [
    {
     "name": "stdout",
     "output_type": "stream",
     "text": [
      "Mean Absolute Error =  2.62875000445048\n",
      "Mean Squared Error =  12.774178762634163\n",
      "Root Mean Squared Error =  3.5740983146290426\n"
     ]
    }
   ],
   "source": [
    "#Evaluating error metrics\n",
    "\n",
    "mae = mean_absolute_error(y_cv,predictions)\n",
    "mse = mean_squared_error(y_cv,predictions)\n",
    "rmse = np.sqrt(mse)\n",
    "print(\"Mean Absolute Error = \",mae)\n",
    "print(\"Mean Squared Error = \",mse)\n",
    "print(\"Root Mean Squared Error = \",rmse)"
   ]
  },
  {
   "cell_type": "code",
   "execution_count": 181,
   "id": "6f6e60fb",
   "metadata": {},
   "outputs": [
    {
     "data": {
      "text/plain": [
       "array([[   8.,  340.,  145., 3600.,   12.]])"
      ]
     },
     "execution_count": 181,
     "metadata": {},
     "output_type": "execute_result"
    }
   ],
   "source": [
    "#Creating a new,random input set\n",
    "\n",
    "x = np.array([[8,340,145,3600,12,]])\n",
    "x = x.astype(float)\n",
    "x"
   ]
  },
  {
   "cell_type": "code",
   "execution_count": 182,
   "id": "60340047",
   "metadata": {},
   "outputs": [
    {
     "data": {
      "text/plain": [
       "array([15.12600006])"
      ]
     },
     "execution_count": 182,
     "metadata": {},
     "output_type": "execute_result"
    }
   ],
   "source": [
    "#Predicting output for above defined input\n",
    "\n",
    "y = regressor.predict(x)\n",
    "y"
   ]
  },
  {
   "cell_type": "code",
   "execution_count": 183,
   "id": "ee5c9b55",
   "metadata": {},
   "outputs": [],
   "source": [
    "# Saving model to disk\n",
    "\n",
    "pickle.dump(regressor, open('model_mpg.pkl','wb'))"
   ]
  },
  {
   "cell_type": "code",
   "execution_count": 184,
   "id": "4268b443",
   "metadata": {},
   "outputs": [
    {
     "name": "stdout",
     "output_type": "stream",
     "text": [
      "[15.12600006]\n"
     ]
    }
   ],
   "source": [
    "# Loading model to compare the results\n",
    "\n",
    "model = pickle.load(open('model_mpg.pkl','rb'))\n",
    "print(model.predict([[8, 340, 145, 3600, 12]])) "
   ]
  }
 ],
 "metadata": {
  "kernelspec": {
   "display_name": "Python 3",
   "language": "python",
   "name": "python3"
  },
  "language_info": {
   "codemirror_mode": {
    "name": "ipython",
    "version": 3
   },
   "file_extension": ".py",
   "mimetype": "text/x-python",
   "name": "python",
   "nbconvert_exporter": "python",
   "pygments_lexer": "ipython3",
   "version": "3.8.8"
  }
 },
 "nbformat": 4,
 "nbformat_minor": 5
}
